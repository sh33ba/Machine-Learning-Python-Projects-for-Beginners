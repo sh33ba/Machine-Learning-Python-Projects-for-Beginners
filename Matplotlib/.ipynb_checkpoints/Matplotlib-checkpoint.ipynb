{
 "cells": [
  {
   "cell_type": "markdown",
   "metadata": {},
   "source": [
    "### MATPLOTLIB"
   ]
  },
  {
   "cell_type": "code",
   "execution_count": 10,
   "metadata": {},
   "outputs": [
    {
     "name": "stdout",
     "output_type": "stream",
     "text": [
      "Hyderabad,300.64,74,Haze \n",
      "\n",
      "Patna,309.15,47,Haze \n",
      "\n",
      "Agartala,306.15,66,Clouds \n",
      "\n",
      "Kohima,304.15,62,Clouds \n",
      "\n",
      "Chandigarh,305.69,26,Haze \n",
      "\n",
      "Ranchi,306.15,55,Haze \n",
      "\n",
      "Thiruvananthapuram,304.15,70,Clouds \n",
      "\n",
      "Mumbai,306.15,66,Haze \n",
      "\n",
      "Bhubaneswar,306.15,75,Haze \n",
      "\n",
      "Chandigarh,305.69,26,Haze \n",
      "\n",
      "Panaji,305.15,59,Clouds \n",
      "\n",
      "Gandhinagar,310.15,39,Smoke \n",
      "\n",
      "Dispur,305.15,79,Mist \n",
      "\n",
      "Amaravati,307.15,71,Clouds \n",
      "\n",
      "Dehradun,308.15,36,Haze \n",
      "\n",
      "Shimla,306.71,26,Haze \n",
      "\n",
      "Bhopal,313.15,21,Clouds \n",
      "\n",
      "Jaipur,313.15,24,Haze \n",
      "\n",
      "Aizawl,303.15,66,Haze \n",
      "\n",
      "Srinagar,293.544,36,Clouds \n",
      "\n",
      "Kolkata,305.15,75,Haze \n",
      "\n",
      "Raipur,309.15,37,Haze \n",
      "\n",
      "Chennai,310.46,39,Clouds \n",
      "\n",
      "Lucknow,310.15,39,Haze \n",
      "\n",
      "Gangtok,297.744,37,Clear \n",
      "\n",
      "Itanagar,299.15,100,Drizzle \n",
      "\n",
      "Bangalore,300.2,78,Clouds \n",
      "\n",
      "Shillong,305.15,79,Mist \n",
      "\n",
      "Imphal,302.15,70,Haze \n",
      "\n",
      "                  City  Temperature  Humidity  Weather\n",
      "0            Hyderabad      300.640        74     Haze\n",
      "1                Patna      309.150        47     Haze\n",
      "2             Agartala      306.150        66   Clouds\n",
      "3               Kohima      304.150        62   Clouds\n",
      "4           Chandigarh      305.690        26     Haze\n",
      "5               Ranchi      306.150        55     Haze\n",
      "6   Thiruvananthapuram      304.150        70   Clouds\n",
      "7               Mumbai      306.150        66     Haze\n",
      "8          Bhubaneswar      306.150        75     Haze\n",
      "9           Chandigarh      305.690        26     Haze\n",
      "10              Panaji      305.150        59   Clouds\n",
      "11         Gandhinagar      310.150        39    Smoke\n",
      "12              Dispur      305.150        79     Mist\n",
      "13           Amaravati      307.150        71   Clouds\n",
      "14            Dehradun      308.150        36     Haze\n",
      "15              Shimla      306.710        26     Haze\n",
      "16              Bhopal      313.150        21   Clouds\n",
      "17              Jaipur      313.150        24     Haze\n",
      "18              Aizawl      303.150        66     Haze\n",
      "19            Srinagar      293.544        36   Clouds\n",
      "20             Kolkata      305.150        75     Haze\n",
      "21              Raipur      309.150        37     Haze\n",
      "22             Chennai      310.460        39   Clouds\n",
      "23             Lucknow      310.150        39     Haze\n",
      "24             Gangtok      297.744        37    Clear\n",
      "25            Itanagar      299.150       100  Drizzle\n",
      "26           Bangalore      300.200        78   Clouds\n",
      "27            Shillong      305.150        79     Mist\n",
      "28              Imphal      302.150        70     Haze\n"
     ]
    }
   ],
   "source": [
    "caps=['Hyderabad',\n",
    " 'Patna',\n",
    " 'Agartala',\n",
    " 'Kohima',\n",
    " 'Chandigarh',\n",
    " 'Ranchi',\n",
    " 'Thiruvananthapuram',\n",
    " 'Mumbai',\n",
    " 'Bhubaneswar',\n",
    " 'Chandigarh',\n",
    " 'Panaji',\n",
    " 'Gandhinagar',\n",
    " 'Dispur',\n",
    " 'Amaravati',\n",
    " 'Dehradun',\n",
    " 'Shimla',\n",
    " 'Bhopal',\n",
    " 'Jaipur',\n",
    " 'Aizawl',\n",
    " 'Srinagar',\n",
    " 'Kolkata',\n",
    " 'Raipur',\n",
    " 'Chennai',\n",
    " 'Lucknow',\n",
    " 'Gangtok',\n",
    " 'Itanagar',\n",
    " 'Bangalore',\n",
    " 'Shillong',\n",
    " 'Imphal']\n",
    "\n",
    "\n",
    "import requests as w\n",
    "import json\n",
    "import pandas as pd\n",
    "temp=[]\n",
    "hum=[]\n",
    "weather=[]\n",
    "for city in caps:\n",
    "    try:\n",
    "    \n",
    "        data=w.get(\"http://api.openweathermap.org/data/2.5/weather?q=\"+city+\"&APPID=bafdecd14e244eeadeabf917b9a7b8cf\")\n",
    "    \n",
    "        data=json.loads(data.content)\n",
    "        \n",
    "        p=data['name']+','+str(data['main']['temp'])+','+str(data['main']['humidity'])+','+data['weather'][0]['main']\n",
    "        print(p,\"\\n\")\n",
    "        temp.append(data['main']['temp'])\n",
    "        hum.append(data['main']['humidity'])\n",
    "        weather.append(data['weather'][0]['main'])\n",
    "        with open(\"weather_info.txt\",'a') as t:\n",
    "            t.write(p)\n",
    "    except:\n",
    "        print(\"we are unable to fetch data!\")\n",
    "        \n",
    "df=pd.DataFrame({\"City\":caps,\"Temperature\":temp,\"Humidity\":hum,\"Weather\":weather})\n",
    "print(df)"
   ]
  },
  {
   "cell_type": "code",
   "execution_count": 11,
   "metadata": {},
   "outputs": [
    {
     "data": {
      "text/html": [
       "<div>\n",
       "<style scoped>\n",
       "    .dataframe tbody tr th:only-of-type {\n",
       "        vertical-align: middle;\n",
       "    }\n",
       "\n",
       "    .dataframe tbody tr th {\n",
       "        vertical-align: top;\n",
       "    }\n",
       "\n",
       "    .dataframe thead th {\n",
       "        text-align: right;\n",
       "    }\n",
       "</style>\n",
       "<table border=\"1\" class=\"dataframe\">\n",
       "  <thead>\n",
       "    <tr style=\"text-align: right;\">\n",
       "      <th></th>\n",
       "      <th>City</th>\n",
       "      <th>Temperature</th>\n",
       "      <th>Humidity</th>\n",
       "      <th>Weather</th>\n",
       "    </tr>\n",
       "  </thead>\n",
       "  <tbody>\n",
       "    <tr>\n",
       "      <th>0</th>\n",
       "      <td>Hyderabad</td>\n",
       "      <td>300.640</td>\n",
       "      <td>74</td>\n",
       "      <td>Haze</td>\n",
       "    </tr>\n",
       "    <tr>\n",
       "      <th>1</th>\n",
       "      <td>Patna</td>\n",
       "      <td>309.150</td>\n",
       "      <td>47</td>\n",
       "      <td>Haze</td>\n",
       "    </tr>\n",
       "    <tr>\n",
       "      <th>2</th>\n",
       "      <td>Agartala</td>\n",
       "      <td>306.150</td>\n",
       "      <td>66</td>\n",
       "      <td>Clouds</td>\n",
       "    </tr>\n",
       "    <tr>\n",
       "      <th>3</th>\n",
       "      <td>Kohima</td>\n",
       "      <td>304.150</td>\n",
       "      <td>62</td>\n",
       "      <td>Clouds</td>\n",
       "    </tr>\n",
       "    <tr>\n",
       "      <th>4</th>\n",
       "      <td>Chandigarh</td>\n",
       "      <td>305.690</td>\n",
       "      <td>26</td>\n",
       "      <td>Haze</td>\n",
       "    </tr>\n",
       "    <tr>\n",
       "      <th>5</th>\n",
       "      <td>Ranchi</td>\n",
       "      <td>306.150</td>\n",
       "      <td>55</td>\n",
       "      <td>Haze</td>\n",
       "    </tr>\n",
       "    <tr>\n",
       "      <th>6</th>\n",
       "      <td>Thiruvananthapuram</td>\n",
       "      <td>304.150</td>\n",
       "      <td>70</td>\n",
       "      <td>Clouds</td>\n",
       "    </tr>\n",
       "    <tr>\n",
       "      <th>7</th>\n",
       "      <td>Mumbai</td>\n",
       "      <td>306.150</td>\n",
       "      <td>66</td>\n",
       "      <td>Haze</td>\n",
       "    </tr>\n",
       "    <tr>\n",
       "      <th>8</th>\n",
       "      <td>Bhubaneswar</td>\n",
       "      <td>306.150</td>\n",
       "      <td>75</td>\n",
       "      <td>Haze</td>\n",
       "    </tr>\n",
       "    <tr>\n",
       "      <th>9</th>\n",
       "      <td>Chandigarh</td>\n",
       "      <td>305.690</td>\n",
       "      <td>26</td>\n",
       "      <td>Haze</td>\n",
       "    </tr>\n",
       "    <tr>\n",
       "      <th>10</th>\n",
       "      <td>Panaji</td>\n",
       "      <td>305.150</td>\n",
       "      <td>59</td>\n",
       "      <td>Clouds</td>\n",
       "    </tr>\n",
       "    <tr>\n",
       "      <th>11</th>\n",
       "      <td>Gandhinagar</td>\n",
       "      <td>310.150</td>\n",
       "      <td>39</td>\n",
       "      <td>Smoke</td>\n",
       "    </tr>\n",
       "    <tr>\n",
       "      <th>12</th>\n",
       "      <td>Dispur</td>\n",
       "      <td>305.150</td>\n",
       "      <td>79</td>\n",
       "      <td>Mist</td>\n",
       "    </tr>\n",
       "    <tr>\n",
       "      <th>13</th>\n",
       "      <td>Amaravati</td>\n",
       "      <td>307.150</td>\n",
       "      <td>71</td>\n",
       "      <td>Clouds</td>\n",
       "    </tr>\n",
       "    <tr>\n",
       "      <th>14</th>\n",
       "      <td>Dehradun</td>\n",
       "      <td>308.150</td>\n",
       "      <td>36</td>\n",
       "      <td>Haze</td>\n",
       "    </tr>\n",
       "    <tr>\n",
       "      <th>15</th>\n",
       "      <td>Shimla</td>\n",
       "      <td>306.710</td>\n",
       "      <td>26</td>\n",
       "      <td>Haze</td>\n",
       "    </tr>\n",
       "    <tr>\n",
       "      <th>16</th>\n",
       "      <td>Bhopal</td>\n",
       "      <td>313.150</td>\n",
       "      <td>21</td>\n",
       "      <td>Clouds</td>\n",
       "    </tr>\n",
       "    <tr>\n",
       "      <th>17</th>\n",
       "      <td>Jaipur</td>\n",
       "      <td>313.150</td>\n",
       "      <td>24</td>\n",
       "      <td>Haze</td>\n",
       "    </tr>\n",
       "    <tr>\n",
       "      <th>18</th>\n",
       "      <td>Aizawl</td>\n",
       "      <td>303.150</td>\n",
       "      <td>66</td>\n",
       "      <td>Haze</td>\n",
       "    </tr>\n",
       "    <tr>\n",
       "      <th>19</th>\n",
       "      <td>Srinagar</td>\n",
       "      <td>293.544</td>\n",
       "      <td>36</td>\n",
       "      <td>Clouds</td>\n",
       "    </tr>\n",
       "    <tr>\n",
       "      <th>20</th>\n",
       "      <td>Kolkata</td>\n",
       "      <td>305.150</td>\n",
       "      <td>75</td>\n",
       "      <td>Haze</td>\n",
       "    </tr>\n",
       "    <tr>\n",
       "      <th>21</th>\n",
       "      <td>Raipur</td>\n",
       "      <td>309.150</td>\n",
       "      <td>37</td>\n",
       "      <td>Haze</td>\n",
       "    </tr>\n",
       "    <tr>\n",
       "      <th>22</th>\n",
       "      <td>Chennai</td>\n",
       "      <td>310.460</td>\n",
       "      <td>39</td>\n",
       "      <td>Clouds</td>\n",
       "    </tr>\n",
       "    <tr>\n",
       "      <th>23</th>\n",
       "      <td>Lucknow</td>\n",
       "      <td>310.150</td>\n",
       "      <td>39</td>\n",
       "      <td>Haze</td>\n",
       "    </tr>\n",
       "    <tr>\n",
       "      <th>24</th>\n",
       "      <td>Gangtok</td>\n",
       "      <td>297.744</td>\n",
       "      <td>37</td>\n",
       "      <td>Clear</td>\n",
       "    </tr>\n",
       "    <tr>\n",
       "      <th>25</th>\n",
       "      <td>Itanagar</td>\n",
       "      <td>299.150</td>\n",
       "      <td>100</td>\n",
       "      <td>Drizzle</td>\n",
       "    </tr>\n",
       "    <tr>\n",
       "      <th>26</th>\n",
       "      <td>Bangalore</td>\n",
       "      <td>300.200</td>\n",
       "      <td>78</td>\n",
       "      <td>Clouds</td>\n",
       "    </tr>\n",
       "    <tr>\n",
       "      <th>27</th>\n",
       "      <td>Shillong</td>\n",
       "      <td>305.150</td>\n",
       "      <td>79</td>\n",
       "      <td>Mist</td>\n",
       "    </tr>\n",
       "    <tr>\n",
       "      <th>28</th>\n",
       "      <td>Imphal</td>\n",
       "      <td>302.150</td>\n",
       "      <td>70</td>\n",
       "      <td>Haze</td>\n",
       "    </tr>\n",
       "  </tbody>\n",
       "</table>\n",
       "</div>"
      ],
      "text/plain": [
       "                  City  Temperature  Humidity  Weather\n",
       "0            Hyderabad      300.640        74     Haze\n",
       "1                Patna      309.150        47     Haze\n",
       "2             Agartala      306.150        66   Clouds\n",
       "3               Kohima      304.150        62   Clouds\n",
       "4           Chandigarh      305.690        26     Haze\n",
       "5               Ranchi      306.150        55     Haze\n",
       "6   Thiruvananthapuram      304.150        70   Clouds\n",
       "7               Mumbai      306.150        66     Haze\n",
       "8          Bhubaneswar      306.150        75     Haze\n",
       "9           Chandigarh      305.690        26     Haze\n",
       "10              Panaji      305.150        59   Clouds\n",
       "11         Gandhinagar      310.150        39    Smoke\n",
       "12              Dispur      305.150        79     Mist\n",
       "13           Amaravati      307.150        71   Clouds\n",
       "14            Dehradun      308.150        36     Haze\n",
       "15              Shimla      306.710        26     Haze\n",
       "16              Bhopal      313.150        21   Clouds\n",
       "17              Jaipur      313.150        24     Haze\n",
       "18              Aizawl      303.150        66     Haze\n",
       "19            Srinagar      293.544        36   Clouds\n",
       "20             Kolkata      305.150        75     Haze\n",
       "21              Raipur      309.150        37     Haze\n",
       "22             Chennai      310.460        39   Clouds\n",
       "23             Lucknow      310.150        39     Haze\n",
       "24             Gangtok      297.744        37    Clear\n",
       "25            Itanagar      299.150       100  Drizzle\n",
       "26           Bangalore      300.200        78   Clouds\n",
       "27            Shillong      305.150        79     Mist\n",
       "28              Imphal      302.150        70     Haze"
      ]
     },
     "execution_count": 11,
     "metadata": {},
     "output_type": "execute_result"
    }
   ],
   "source": [
    "df"
   ]
  },
  {
   "cell_type": "code",
   "execution_count": null,
   "metadata": {},
   "outputs": [],
   "source": []
  },
  {
   "cell_type": "code",
   "execution_count": 16,
   "metadata": {},
   "outputs": [
    {
     "data": {
      "text/plain": [
       "Index           80\n",
       "City           232\n",
       "Temperature    232\n",
       "Humidity       232\n",
       "Weather        232\n",
       "dtype: int64"
      ]
     },
     "execution_count": 16,
     "metadata": {},
     "output_type": "execute_result"
    }
   ],
   "source": [
    "df.memory_usage()"
   ]
  },
  {
   "cell_type": "code",
   "execution_count": 17,
   "metadata": {},
   "outputs": [
    {
     "name": "stdout",
     "output_type": "stream",
     "text": [
      "<class 'pandas.core.frame.DataFrame'>\n",
      "RangeIndex: 29 entries, 0 to 28\n",
      "Data columns (total 4 columns):\n",
      "City           29 non-null object\n",
      "Temperature    29 non-null float64\n",
      "Humidity       29 non-null int64\n",
      "Weather        29 non-null object\n",
      "dtypes: float64(1), int64(1), object(2)\n",
      "memory usage: 4.1 KB\n"
     ]
    }
   ],
   "source": [
    "df.info(memory_usage='deep')"
   ]
  },
  {
   "cell_type": "code",
   "execution_count": 26,
   "metadata": {},
   "outputs": [],
   "source": [
    "import matplotlib.pyplot as plt\n",
    "import numpy as np\n",
    "%matplotlib inline"
   ]
  },
  {
   "cell_type": "code",
   "execution_count": 21,
   "metadata": {},
   "outputs": [],
   "source": [
    "x=np.arange(1,10)\n",
    "y=2*x"
   ]
  },
  {
   "cell_type": "code",
   "execution_count": 34,
   "metadata": {},
   "outputs": [
    {
     "data": {
      "image/png": "[encoded data removed]",
      "text/plain": [
       "<Figure size 432x288 with 1 Axes>"
      ]
     },
     "metadata": {
      "needs_background": "light"
     },
     "output_type": "display_data"
    }
   ],
   "source": [
    "plt.title(\"Simple Linear Plot\")\n",
    "plt.xlabel(\"1-10\")\n",
    "plt.ylabel(\"1-20\")\n",
    "plt.plot(x,y,color=\"red\",linestyle=\"--\")\n",
    "\n",
    "plt.show()   #bydefault plt is in show mode"
   ]
  },
  {
   "cell_type": "code",
   "execution_count": 47,
   "metadata": {},
   "outputs": [
    {
     "data": {
      "text/plain": [
       "[<matplotlib.lines.Line2D at 0x2197d5bf978>]"
      ]
     },
     "execution_count": 47,
     "metadata": {},
     "output_type": "execute_result"
    },
    {
     "data": {
      "image/png": "[encoded data removed]",
      "text/plain": [
       "<Figure size 432x288 with 1 Axes>"
      ]
     },
     "metadata": {
      "needs_background": "light"
     },
     "output_type": "display_data"
    }
   ],
   "source": [
    "x=np.arange(1,360)\n",
    "y=np.sin(np.array(x*np.pi/180.))\n",
    "plt.plot(x,y)"
   ]
  },
  {
   "cell_type": "code",
   "execution_count": 109,
   "metadata": {},
   "outputs": [
    {
     "data": {
      "text/plain": [
       "[<matplotlib.lines.Line2D at 0x2197cc71470>]"
      ]
     },
     "execution_count": 109,
     "metadata": {},
     "output_type": "execute_result"
    },
    {
     "data": {
      "image/png": "[encoded data removed]",
      "text/plain": [
       "<Figure size 432x288 with 1 Axes>"
      ]
     },
     "metadata": {
      "needs_background": "light"
     },
     "output_type": "display_data"
    }
   ],
   "source": [
    "x=np.arange(-200,200)\n",
    "y=[]\n",
    "for i in x:\n",
    "    if i<0:\n",
    "        y.append(0)\n",
    "    else:\n",
    "        y.append(1)\n",
    "plt.plot(x,y)"
   ]
  },
  {
   "cell_type": "code",
   "execution_count": 88,
   "metadata": {},
   "outputs": [],
   "source": [
    "r=np.random.randint(1,100,100)"
   ]
  },
  {
   "cell_type": "code",
   "execution_count": 89,
   "metadata": {},
   "outputs": [
    {
     "data": {
      "text/plain": [
       "100"
      ]
     },
     "execution_count": 89,
     "metadata": {},
     "output_type": "execute_result"
    }
   ],
   "source": [
    "len(r)"
   ]
  },
  {
   "cell_type": "code",
   "execution_count": 95,
   "metadata": {},
   "outputs": [
    {
     "data": {
      "text/plain": [
       "<matplotlib.collections.PathCollection at 0x2197cbe6fd0>"
      ]
     },
     "execution_count": 95,
     "metadata": {},
     "output_type": "execute_result"
    },
    {
     "data": {
      "image/png": "[encoded data removed]",
      "text/plain": [
       "<Figure size 432x288 with 1 Axes>"
      ]
     },
     "metadata": {
      "needs_background": "light"
     },
     "output_type": "display_data"
    }
   ],
   "source": [
    "plt.scatter(np.arange(0,100),r)"
   ]
  },
  {
   "cell_type": "code",
   "execution_count": 96,
   "metadata": {},
   "outputs": [],
   "source": [
    "def impulse(x):\n",
    "    if x==0:\n",
    "        return 1\n",
    "    return 0"
   ]
  },
  {
   "cell_type": "code",
   "execution_count": 98,
   "metadata": {},
   "outputs": [
    {
     "data": {
      "text/plain": [
       "0"
      ]
     },
     "execution_count": 98,
     "metadata": {},
     "output_type": "execute_result"
    }
   ],
   "source": [
    "impulse(1)"
   ]
  },
  {
   "cell_type": "code",
   "execution_count": 105,
   "metadata": {},
   "outputs": [
    {
     "data": {
      "text/plain": [
       "<matplotlib.collections.PathCollection at 0x2197baa11d0>"
      ]
     },
     "execution_count": 105,
     "metadata": {},
     "output_type": "execute_result"
    },
    {
     "data": {
      "image/png": "[encoded data removed]",
      "text/plain": [
       "<Figure size 432x288 with 1 Axes>"
      ]
     },
     "metadata": {
      "needs_background": "light"
     },
     "output_type": "display_data"
    }
   ],
   "source": [
    "a=np.arange(-100,100)\n",
    "b=list(map(impulse,a))\n",
    "plt.scatter(a,b)"
   ]
  },
  {
   "cell_type": "code",
   "execution_count": 112,
   "metadata": {},
   "outputs": [
    {
     "data": {
      "text/plain": [
       "<matplotlib.collections.PathCollection at 0x2197e831860>"
      ]
     },
     "execution_count": 112,
     "metadata": {},
     "output_type": "execute_result"
    },
    {
     "data": {
      "image/png": "[encoded data removed]",
      "text/plain": [
       "<Figure size 432x288 with 1 Axes>"
      ]
     },
     "metadata": {
      "needs_background": "light"
     },
     "output_type": "display_data"
    }
   ],
   "source": [
    "r=np.random.randint(1,100,100)\n",
    "plt.scatter(np.arange(0,100),r,marker=\"^\",\n",
    "            color=\"red\",\n",
    "            facecolor='green')"
   ]
  },
  {
   "cell_type": "code",
   "execution_count": 129,
   "metadata": {},
   "outputs": [
    {
     "data": {
      "text/plain": [
       "<matplotlib.collections.PathCollection at 0x2197fdfca20>"
      ]
     },
     "execution_count": 129,
     "metadata": {},
     "output_type": "execute_result"
    },
    {
     "data": {
      "image/png": "[encoded data removed]",
      "text/plain": [
       "<Figure size 432x288 with 1 Axes>"
      ]
     },
     "metadata": {
      "needs_background": "light"
     },
     "output_type": "display_data"
    }
   ],
   "source": [
    "r=np.random.randint(1,100,100)\n",
    "plt.scatter(np.arange(0,100),r,marker=\"o\",\n",
    "            color=\"red\",\n",
    "            facecolor='green',\n",
    "            s=100)"
   ]
  },
  {
   "cell_type": "code",
   "execution_count": 140,
   "metadata": {},
   "outputs": [
    {
     "data": {
      "text/plain": [
       "(array([  0.,  96., 128., 117., 105., 106., 128.,  98., 108., 114.]),\n",
       " array([ 0,  1,  2,  3,  4,  5,  6,  7,  8,  9, 10]),\n",
       " <a list of 10 Patch objects>)"
      ]
     },
     "execution_count": 140,
     "metadata": {},
     "output_type": "execute_result"
    },
    {
     "data": {
      "image/png": "[encoded data removed]",
      "text/plain": [
       "<Figure size 432x288 with 1 Axes>"
      ]
     },
     "metadata": {
      "needs_background": "light"
     },
     "output_type": "display_data"
    }
   ],
   "source": [
    "n=np.random.randint(1,10,1000)\n",
    "plt.hist(n,bins=np.arange(0,11))"
   ]
  },
  {
   "cell_type": "code",
   "execution_count": 143,
   "metadata": {},
   "outputs": [
    {
     "data": {
      "text/plain": [
       "(array([ 96, 128, 117, 105,   0, 106, 128,  98, 108, 114], dtype=int64),\n",
       " array([1. , 1.8, 2.6, 3.4, 4.2, 5. , 5.8, 6.6, 7.4, 8.2, 9. ]))"
      ]
     },
     "execution_count": 143,
     "metadata": {},
     "output_type": "execute_result"
    }
   ],
   "source": [
    "np.histogram(n)"
   ]
  },
  {
   "cell_type": "code",
   "execution_count": 145,
   "metadata": {},
   "outputs": [
    {
     "data": {
      "text/plain": [
       "(array([  0., 110., 112., 124., 110., 100., 105., 113., 117., 109.]),\n",
       " array([ 0,  1,  2,  3,  4,  5,  6,  7,  8,  9, 10]),\n",
       " <a list of 10 Patch objects>)"
      ]
     },
     "execution_count": 145,
     "metadata": {},
     "output_type": "execute_result"
    },
    {
     "data": {
      "image/png": "[encoded data removed]",
      "text/plain": [
       "<Figure size 432x288 with 1 Axes>"
      ]
     },
     "metadata": {
      "needs_background": "light"
     },
     "output_type": "display_data"
    }
   ],
   "source": [
    "n=np.random.randint(1,10,1000)\n",
    "plt.hist(n,bins=np.arange(0,11),rwidth=0.5)"
   ]
  },
  {
   "cell_type": "code",
   "execution_count": 156,
   "metadata": {},
   "outputs": [],
   "source": [
    "f,b=np.histogram(n,bins=10)"
   ]
  },
  {
   "cell_type": "code",
   "execution_count": 157,
   "metadata": {},
   "outputs": [
    {
     "data": {
      "text/plain": [
       "10"
      ]
     },
     "execution_count": 157,
     "metadata": {},
     "output_type": "execute_result"
    }
   ],
   "source": [
    "len(f)"
   ]
  },
  {
   "cell_type": "code",
   "execution_count": 158,
   "metadata": {},
   "outputs": [
    {
     "data": {
      "text/plain": [
       "11"
      ]
     },
     "execution_count": 158,
     "metadata": {},
     "output_type": "execute_result"
    }
   ],
   "source": [
    "len(b)"
   ]
  },
  {
   "cell_type": "code",
   "execution_count": 152,
   "metadata": {},
   "outputs": [
    {
     "data": {
      "text/plain": [
       "1.8"
      ]
     },
     "execution_count": 152,
     "metadata": {},
     "output_type": "execute_result"
    }
   ],
   "source": [
    "b[1]"
   ]
  },
  {
   "cell_type": "code",
   "execution_count": 170,
   "metadata": {},
   "outputs": [
    {
     "data": {
      "text/plain": [
       "array([1, 2, 3, 4, 5, 6, 7, 8, 9])"
      ]
     },
     "execution_count": 170,
     "metadata": {},
     "output_type": "execute_result"
    }
   ],
   "source": [
    "np.unique(n)"
   ]
  },
  {
   "cell_type": "code",
   "execution_count": 164,
   "metadata": {},
   "outputs": [
    {
     "data": {
      "text/plain": [
       "array([1, 1, 1, 1, 1, 1, 1, 1, 1, 1, 1, 1, 1, 1, 1, 1, 1, 1, 1, 1, 1, 1,\n",
       "       1, 1, 1, 1, 1, 1, 1, 1, 1, 1, 1, 1, 1, 1, 1, 1, 1, 1, 1, 1, 1, 1,\n",
       "       1, 1, 1, 1, 1, 1, 1, 1, 1, 1, 1, 1, 1, 1, 1, 1, 1, 1, 1, 1, 1, 1,\n",
       "       1, 1, 1, 1, 1, 1, 1, 1, 1, 1, 1, 1, 1, 1, 1, 1, 1, 1, 1, 1, 1, 1,\n",
       "       1, 1, 1, 1, 1, 1, 1, 1, 1, 1, 1, 1, 1, 1, 1, 1, 1, 1, 1, 1, 1, 1])"
      ]
     },
     "execution_count": 164,
     "metadata": {},
     "output_type": "execute_result"
    }
   ],
   "source": [
    "n[n==1]"
   ]
  },
  {
   "cell_type": "code",
   "execution_count": 166,
   "metadata": {},
   "outputs": [
    {
     "data": {
      "text/plain": [
       "110"
      ]
     },
     "execution_count": 166,
     "metadata": {},
     "output_type": "execute_result"
    }
   ],
   "source": [
    "len(n[n==1])"
   ]
  },
  {
   "cell_type": "code",
   "execution_count": 171,
   "metadata": {},
   "outputs": [],
   "source": [
    "x=np.unique(n)"
   ]
  },
  {
   "cell_type": "code",
   "execution_count": 167,
   "metadata": {},
   "outputs": [
    {
     "data": {
      "text/plain": [
       "[110, 112, 124, 110, 100, 105, 113, 117, 109]"
      ]
     },
     "execution_count": 167,
     "metadata": {},
     "output_type": "execute_result"
    }
   ],
   "source": [
    "[len(n[n==i]) for i in np.unique(n)]"
   ]
  },
  {
   "cell_type": "code",
   "execution_count": 172,
   "metadata": {},
   "outputs": [],
   "source": [
    "y=[len(n[n==i]) for i in np.unique(n)]"
   ]
  },
  {
   "cell_type": "code",
   "execution_count": 174,
   "metadata": {},
   "outputs": [
    {
     "data": {
      "text/plain": [
       "True"
      ]
     },
     "execution_count": 174,
     "metadata": {},
     "output_type": "execute_result"
    }
   ],
   "source": [
    "len(x)==len(y)"
   ]
  },
  {
   "cell_type": "code",
   "execution_count": null,
   "metadata": {},
   "outputs": [],
   "source": [
    "assert()"
   ]
  },
  {
   "cell_type": "code",
   "execution_count": 176,
   "metadata": {},
   "outputs": [
    {
     "data": {
      "text/plain": [
       "<BarContainer object of 9 artists>"
      ]
     },
     "execution_count": 176,
     "metadata": {},
     "output_type": "execute_result"
    },
    {
     "data": {
      "image/png": "[encoded data removed]",
      "text/plain": [
       "<Figure size 432x288 with 1 Axes>"
      ]
     },
     "metadata": {
      "needs_background": "light"
     },
     "output_type": "display_data"
    }
   ],
   "source": [
    "plt.bar(x,y)"
   ]
  },
  {
   "cell_type": "code",
   "execution_count": 175,
   "metadata": {},
   "outputs": [
    {
     "data": {
      "text/plain": [
       "<BarContainer object of 9 artists>"
      ]
     },
     "execution_count": 175,
     "metadata": {},
     "output_type": "execute_result"
    },
    {
     "data": {
      "image/png": "[encoded data removed]",
      "text/plain": [
       "<Figure size 432x288 with 1 Axes>"
      ]
     },
     "metadata": {
      "needs_background": "light"
     },
     "output_type": "display_data"
    }
   ],
   "source": [
    "plt.xticks(x)\n",
    "plt.bar(x,y)"
   ]
  },
  {
   "cell_type": "code",
   "execution_count": 3,
   "metadata": {},
   "outputs": [],
   "source": [
    "s='asdfg'\n",
    "for i in range(3,len(s)-2):\n",
    "    print(\"y\")"
   ]
  },
  {
   "cell_type": "code",
   "execution_count": null,
   "metadata": {},
   "outputs": [],
   "source": []
  }
 ],
 "metadata": {
  "kernelspec": {
   "display_name": "Python 3",
   "language": "python",
   "name": "python3"
  },
  "language_info": {
   "codemirror_mode": {
    "name": "ipython",
    "version": 3
   },
   "file_extension": ".py",
   "mimetype": "text/x-python",
   "name": "python",
   "nbconvert_exporter": "python",
   "pygments_lexer": "ipython3",
   "version": "3.7.3"
  }
 },
 "nbformat": 4,
 "nbformat_minor": 2
}

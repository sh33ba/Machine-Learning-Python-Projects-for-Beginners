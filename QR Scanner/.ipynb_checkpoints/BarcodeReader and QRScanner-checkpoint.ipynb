{
 "cells": [
  {
   "cell_type": "markdown",
   "metadata": {},
   "source": [
    "## BARCODE AND QRCODE SCANNER\n",
    "1. INSTALL ZBAR LIBRARY\n",
    "2. pip install pyzbar (python wrapper of Zbar library)"
   ]
  },
  {
   "cell_type": "code",
   "execution_count": 1,
   "metadata": {},
   "outputs": [],
   "source": [
    "from pyzbar.pyzbar import decode\n",
    "import io\n",
    "import requests\n",
    "from PIL import Image\n",
    "import numpy as np\n",
    "import cv2 as cv\n",
    "#qr code link generated from - https://www.qr-code-generator.com/\n",
    "u=\"https://chart.googleapis.com/chart?cht=qr&chl=this%20is%20testing%20of%20qr%20code&chs=180x180&choe=UTF-8&chld=L|2\"\n",
    "\n",
    "raw_data=requests.get(u,stream=True).content\n",
    "\n",
    "arr=io.BytesIO(raw_data)\n",
    "img=Image.open(arr).convert(\"L\")"
   ]
  },
  {
   "cell_type": "code",
   "execution_count": 2,
   "metadata": {},
   "outputs": [
    {
     "data": {
      "image/png": "[encoded data removed]",
      "text/plain": [
       "<PIL.JpegImagePlugin.JpegImageFile image mode=L size=180x180 at 0x173C175B400>"
      ]
     },
     "execution_count": 2,
     "metadata": {},
     "output_type": "execute_result"
    }
   ],
   "source": [
    "Image.open('qr.jpg')"
   ]
  },
  {
   "cell_type": "code",
   "execution_count": 3,
   "metadata": {},
   "outputs": [
    {
     "data": {
      "text/plain": [
       "[Decoded(data=b'this is testing of qr code', type='QRCODE', rect=Rect(left=16, top=16, width=149, height=149), polygon=[Point(x=16, y=16), Point(x=16, y=163), Point(x=165, y=165), Point(x=163, y=16)])]"
      ]
     },
     "execution_count": 3,
     "metadata": {},
     "output_type": "execute_result"
    }
   ],
   "source": [
    "decode(img)"
   ]
  },
  {
   "cell_type": "code",
   "execution_count": 4,
   "metadata": {},
   "outputs": [
    {
     "data": {
      "text/plain": [
       "[Decoded(data=b'this is testing of qr code', type='QRCODE', rect=Rect(left=16, top=16, width=149, height=149), polygon=[Point(x=16, y=16), Point(x=16, y=163), Point(x=165, y=165), Point(x=163, y=16)])]"
      ]
     },
     "execution_count": 4,
     "metadata": {},
     "output_type": "execute_result"
    }
   ],
   "source": [
    "decode(np.array(img))"
   ]
  },
  {
   "cell_type": "code",
   "execution_count": 5,
   "metadata": {},
   "outputs": [],
   "source": [
    "rec=decode(img)[0]"
   ]
  },
  {
   "cell_type": "code",
   "execution_count": 6,
   "metadata": {},
   "outputs": [
    {
     "data": {
      "text/plain": [
       "Decoded(data=b'this is testing of qr code', type='QRCODE', rect=Rect(left=16, top=16, width=149, height=149), polygon=[Point(x=16, y=16), Point(x=16, y=163), Point(x=165, y=165), Point(x=163, y=16)])"
      ]
     },
     "execution_count": 6,
     "metadata": {},
     "output_type": "execute_result"
    }
   ],
   "source": [
    "rec"
   ]
  },
  {
   "cell_type": "code",
   "execution_count": 7,
   "metadata": {},
   "outputs": [
    {
     "data": {
      "text/plain": [
       "b'this is testing of qr code'"
      ]
     },
     "execution_count": 7,
     "metadata": {},
     "output_type": "execute_result"
    }
   ],
   "source": [
    "rec.data"
   ]
  },
  {
   "cell_type": "code",
   "execution_count": 8,
   "metadata": {},
   "outputs": [
    {
     "data": {
      "text/plain": [
       "array([[255, 255, 255, ..., 255, 255, 255],\n",
       "       [255, 255, 255, ..., 255, 255, 255],\n",
       "       [255, 255, 255, ..., 255, 255, 255],\n",
       "       ...,\n",
       "       [255, 255, 255, ..., 255, 255, 255],\n",
       "       [255, 255, 255, ..., 255, 255, 255],\n",
       "       [255, 255, 255, ..., 255, 255, 255]], dtype=uint8)"
      ]
     },
     "execution_count": 8,
     "metadata": {},
     "output_type": "execute_result"
    }
   ],
   "source": [
    "np.array(img)"
   ]
  },
  {
   "cell_type": "code",
   "execution_count": 9,
   "metadata": {},
   "outputs": [
    {
     "data": {
      "text/plain": [
       "Rect(left=16, top=16, width=149, height=149)"
      ]
     },
     "execution_count": 9,
     "metadata": {},
     "output_type": "execute_result"
    }
   ],
   "source": [
    "rec.rect"
   ]
  },
  {
   "cell_type": "code",
   "execution_count": null,
   "metadata": {},
   "outputs": [],
   "source": []
  },
  {
   "cell_type": "code",
   "execution_count": null,
   "metadata": {},
   "outputs": [],
   "source": [
    "#IPWebCam\n",
    "cam=cv.VideoCapture(\"100.65.108.148:8080/video\")\n",
    "while True:\n",
    "    status,frame=cam.read()\n",
    "#     qrc=np.array(frame)\n",
    "    \n",
    "    rec=decode(frame)\n",
    "    \n",
    "    for r in rec:\n",
    "        x,y,w,h=r.rect\n",
    "        cv.rectangle(frame,(x,y),(x+w,y+h),(255,255,255),2)\n",
    "        \n",
    "    cv.imshow(\"qr\",frame)\n",
    "    key = cv.waitKey(1) & 0xff \n",
    "    \n",
    "    if key == ord('q'):\n",
    "        cv.destroyAllWindows()\n",
    "        break\n",
    "    \n",
    "cam.release()\n",
    "\n",
    "\n",
    "# cam=cv.VideoCapture(0)\n",
    "# while True:\n",
    "#     status,frame=cam.read()\n",
    "#     cv.imshow(\"face\",frame)\n",
    "#     key = cv.waitKey(1) & 0xff\n",
    "    \n",
    "#     if key == ord('q'):\n",
    "#         cv.destroyAllWindows()\n",
    "#         break\n",
    "    \n",
    "# cam.release()"
   ]
  },
  {
   "cell_type": "code",
   "execution_count": 106,
   "metadata": {},
   "outputs": [],
   "source": [
    "d=decode(np.array(img))[0]"
   ]
  },
  {
   "cell_type": "code",
   "execution_count": 50,
   "metadata": {},
   "outputs": [
    {
     "data": {
      "text/plain": [
       "Decoded(data=b'this is testing of qr code', type='QRCODE', rect=Rect(left=16, top=16, width=149, height=149), polygon=[Point(x=16, y=16), Point(x=16, y=163), Point(x=165, y=165), Point(x=163, y=16)])"
      ]
     },
     "execution_count": 50,
     "metadata": {},
     "output_type": "execute_result"
    }
   ],
   "source": [
    "d"
   ]
  },
  {
   "cell_type": "code",
   "execution_count": 54,
   "metadata": {},
   "outputs": [
    {
     "data": {
      "text/plain": [
       "Rect(left=16, top=16, width=149, height=149)"
      ]
     },
     "execution_count": 54,
     "metadata": {},
     "output_type": "execute_result"
    }
   ],
   "source": [
    "d[2]"
   ]
  },
  {
   "cell_type": "code",
   "execution_count": 40,
   "metadata": {},
   "outputs": [
    {
     "data": {
      "text/plain": [
       "16"
      ]
     },
     "execution_count": 40,
     "metadata": {},
     "output_type": "execute_result"
    }
   ],
   "source": [
    "r[0]"
   ]
  },
  {
   "cell_type": "code",
   "execution_count": 56,
   "metadata": {},
   "outputs": [
    {
     "data": {
      "text/plain": [
       "Rect(left=16, top=16, width=149, height=149)"
      ]
     },
     "execution_count": 56,
     "metadata": {},
     "output_type": "execute_result"
    }
   ],
   "source": [
    "d.rect"
   ]
  },
  {
   "cell_type": "code",
   "execution_count": 75,
   "metadata": {},
   "outputs": [],
   "source": [
    "r=decode(np.array(img))[0]"
   ]
  },
  {
   "cell_type": "code",
   "execution_count": 76,
   "metadata": {},
   "outputs": [
    {
     "data": {
      "text/plain": [
       "Decoded(data=b'this is testing of qr code', type='QRCODE', rect=Rect(left=16, top=16, width=149, height=149), polygon=[Point(x=16, y=16), Point(x=16, y=163), Point(x=165, y=165), Point(x=163, y=16)])"
      ]
     },
     "execution_count": 76,
     "metadata": {},
     "output_type": "execute_result"
    }
   ],
   "source": [
    "r"
   ]
  },
  {
   "cell_type": "code",
   "execution_count": 82,
   "metadata": {},
   "outputs": [
    {
     "data": {
      "text/plain": [
       "Rect(left=16, top=16, width=149, height=149)"
      ]
     },
     "execution_count": 82,
     "metadata": {},
     "output_type": "execute_result"
    }
   ],
   "source": [
    "r.rect"
   ]
  },
  {
   "cell_type": "code",
   "execution_count": 85,
   "metadata": {},
   "outputs": [
    {
     "data": {
      "text/plain": [
       "16"
      ]
     },
     "execution_count": 85,
     "metadata": {},
     "output_type": "execute_result"
    }
   ],
   "source": [
    "r.rect[0]"
   ]
  },
  {
   "cell_type": "code",
   "execution_count": null,
   "metadata": {},
   "outputs": [],
   "source": []
  }
 ],
 "metadata": {
  "kernelspec": {
   "display_name": "Python 3",
   "language": "python",
   "name": "python3"
  },
  "language_info": {
   "codemirror_mode": {
    "name": "ipython",
    "version": 3
   },
   "file_extension": ".py",
   "mimetype": "text/x-python",
   "name": "python",
   "nbconvert_exporter": "python",
   "pygments_lexer": "ipython3",
   "version": "3.7.3"
  }
 },
 "nbformat": 4,
 "nbformat_minor": 2
}
